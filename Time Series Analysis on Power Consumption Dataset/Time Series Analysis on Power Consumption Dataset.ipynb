{
 "cells": [
  {
   "cell_type": "code",
   "execution_count": 26,
   "id": "bfa5e6b3",
   "metadata": {},
   "outputs": [],
   "source": [
    "import pandas as pd \n",
    "df = pd.read_csv(\"D:\\CIT College\\Internship CodersCave\\Power Consumption Dataset\\long_data_.csv\")"
   ]
  },
  {
   "cell_type": "code",
   "execution_count": 27,
   "id": "701dc7a8",
   "metadata": {},
   "outputs": [
    {
     "name": "stdout",
     "output_type": "stream",
     "text": [
      "      States Regions   latitude  longitude                Dates  Usage\n",
      "0     Punjab      NR  31.519974  75.980003  02/01/2019 00:00:00  119.9\n",
      "1    Haryana      NR  28.450006  77.019991  02/01/2019 00:00:00  130.3\n",
      "2  Rajasthan      NR  26.449999  74.639981  02/01/2019 00:00:00  234.1\n",
      "3      Delhi      NR  28.669993  77.230004  02/01/2019 00:00:00   85.8\n",
      "4         UP      NR  27.599981  78.050006  02/01/2019 00:00:00  313.9\n"
     ]
    }
   ],
   "source": [
    "print(df.head())"
   ]
  },
  {
   "cell_type": "code",
   "execution_count": 28,
   "id": "a3ad6635",
   "metadata": {},
   "outputs": [
    {
     "name": "stdout",
     "output_type": "stream",
     "text": [
      "          States Regions   latitude  longitude                Dates  Usage\n",
      "16594    Manipur     NER  24.799971  93.950017  05/12/2020 00:00:00    2.5\n",
      "16595  Meghalaya     NER  25.570492  91.880014  05/12/2020 00:00:00    5.8\n",
      "16596    Mizoram     NER  23.710399  92.720015  05/12/2020 00:00:00    1.6\n",
      "16597   Nagaland     NER  25.666998  94.116570  05/12/2020 00:00:00    2.1\n",
      "16598    Tripura     NER  23.835404  91.279999  05/12/2020 00:00:00    3.3\n"
     ]
    }
   ],
   "source": [
    "print(df.tail())"
   ]
  }
 ],
 "metadata": {
  "kernelspec": {
   "display_name": "Python 3 (ipykernel)",
   "language": "python",
   "name": "python3"
  },
  "language_info": {
   "codemirror_mode": {
    "name": "ipython",
    "version": 3
   },
   "file_extension": ".py",
   "mimetype": "text/x-python",
   "name": "python",
   "nbconvert_exporter": "python",
   "pygments_lexer": "ipython3",
   "version": "3.11.5"
  }
 },
 "nbformat": 4,
 "nbformat_minor": 5
}
